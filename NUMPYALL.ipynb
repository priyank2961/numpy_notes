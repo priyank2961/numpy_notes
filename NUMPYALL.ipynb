{
 "cells": [
  {
   "cell_type": "markdown",
   "id": "3b87c8cb-77d9-4305-857f-362fd84c8aee",
   "metadata": {},
   "source": [
    "Element wise addition of array, size, Shape"
   ]
  },
  {
   "cell_type": "code",
   "execution_count": 7,
   "id": "018e753f-dcb0-4a94-b364-0c9c212c3577",
   "metadata": {},
   "outputs": [
    {
     "name": "stdout",
     "output_type": "stream",
     "text": [
      "Addition of a and b is :  [[ 8 10 12]\n",
      " [14 16 18]]\n",
      "size of a :  6\n",
      "shape of a :  (2, 3)\n"
     ]
    }
   ],
   "source": [
    "import numpy as np\n",
    "\n",
    "a=np.array([[1,2,3],[4,5,6]])\n",
    "\n",
    "b=np.array([[7,8,9],[10,11,12]])\n",
    "print(\"Addition of a and b is : \",a+b)\n",
    "\n",
    "print(\"size of a : \",a.size)\n",
    "\n",
    "print(\"shape of a : \",a.shape)"
   ]
  },
  {
   "cell_type": "markdown",
   "id": "77d18aaa-4e5b-4b86-86ec-7896fe3acaae",
   "metadata": {},
   "source": [
    "Multiplying a matrix by a scalar"
   ]
  },
  {
   "cell_type": "code",
   "execution_count": 3,
   "id": "e2ac4f2d-4de3-48d5-9f78-37101b2534fb",
   "metadata": {},
   "outputs": [
    {
     "name": "stdout",
     "output_type": "stream",
     "text": [
      "2 * a :  [[ 2  4  6]\n",
      " [ 8 10 12]]\n"
     ]
    }
   ],
   "source": [
    "a = np.array([[1,2,3],[4,5,6]])\n",
    "print(\"2 * a : \",2*a)"
   ]
  },
  {
   "cell_type": "markdown",
   "id": "ef2ff42a-27a3-45c5-a6ae-c510ffdea00d",
   "metadata": {},
   "source": [
    "Identity Matrix"
   ]
  },
  {
   "cell_type": "code",
   "execution_count": 41,
   "id": "ebf950d1-cb7a-4135-8400-ac7da8a6c7f3",
   "metadata": {},
   "outputs": [
    {
     "data": {
      "text/plain": [
       "array([[1, 0, 0, 0, 0],\n",
       "       [0, 2, 0, 0, 0],\n",
       "       [0, 0, 3, 0, 0],\n",
       "       [0, 0, 0, 4, 0],\n",
       "       [0, 0, 0, 0, 5]])"
      ]
     },
     "execution_count": 41,
     "metadata": {},
     "output_type": "execute_result"
    }
   ],
   "source": [
    "np.diag(np.array(([1,2,3,4,5])))"
   ]
  },
  {
   "cell_type": "code",
   "execution_count": 40,
   "id": "1f1b6e00-b041-4f47-aa77-6918a7210d77",
   "metadata": {
    "tags": []
   },
   "outputs": [
    {
     "name": "stdout",
     "output_type": "stream",
     "text": [
      "[[1. 0. 0. 0.]\n",
      " [0. 1. 0. 0.]\n",
      " [0. 0. 1. 0.]\n",
      " [0. 0. 0. 1.]]\n"
     ]
    }
   ],
   "source": [
    "print(np.eye(4))"
   ]
  },
  {
   "cell_type": "markdown",
   "id": "e3921d54-4490-45d6-bb3c-077d175c88a9",
   "metadata": {},
   "source": [
    "Arange()"
   ]
  },
  {
   "cell_type": "code",
   "execution_count": 30,
   "id": "9cd21452-43a0-48d0-8f17-55b0897deb4c",
   "metadata": {},
   "outputs": [
    {
     "name": "stdout",
     "output_type": "stream",
     "text": [
      "[0 1 2 3 4 5 6 7 8 9]\n",
      "Multiple of 5 :  [ 5 10 15 20 25 30 35 40 45]\n",
      "Odd numbers between 1 to 100 :  [  0   2   4   6   8  10  12  14  16  18  20  22  24  26  28  30  32  34\n",
      "  36  38  40  42  44  46  48  50  52  54  56  58  60  62  64  66  68  70\n",
      "  72  74  76  78  80  82  84  86  88  90  92  94  96  98 100]\n",
      "Even numbers between 1 to 100 :  [ 0  2  4  6  8 10 12 14 16 18 20 22 24 26 28 30 32 34 36 38 40 42 44 46\n",
      " 48 50 52 54 56 58 60 62 64 66 68 70 72 74 76 78 80 82 84 86 88 90 92 94\n",
      " 96 98]\n",
      "After broadcasting :  [ 1  3  5  7  9 11 13 15 17 19 21 23 25 27 29 31 33 35 37 39 41 43 45 47\n",
      " 49 51 53 55 57 59 61 63 65 67 69 71 73 75 77 79 81 83 85 87 89 91 93 95\n",
      " 97 99]\n"
     ]
    }
   ],
   "source": [
    "print(np.array(np.arange(10)))\n",
    "\n",
    "print(\"Multiple of 5 : \",np.arange(5,50,5))\n",
    "\n",
    "print(\"Odd numbers between 1 to 100 : \",np.arange(0,101,2))\n",
    "\n",
    "print(\"Even numbers between 1 to 100 : \",np.arange(0,100,2))\n",
    "\n",
    "print(\"After broadcasting : \",np.arange(0,100,2)+1)"
   ]
  },
  {
   "cell_type": "markdown",
   "id": "f85bce71-05ec-4d35-9dd5-6fef79385efb",
   "metadata": {},
   "source": [
    "zeros() and ones()"
   ]
  },
  {
   "cell_type": "code",
   "execution_count": 61,
   "id": "29a8d2e2-444b-4c17-ae3a-26672b8b363a",
   "metadata": {},
   "outputs": [
    {
     "name": "stdout",
     "output_type": "stream",
     "text": [
      "zeros :  [[0. 0. 0.]\n",
      " [0. 0. 0.]]\n",
      "ones :  [8. 8. 8. 8. 8. 8. 8. 8. 8. 8. 8. 8. 8. 8. 8. 8. 8. 8. 8. 8. 8. 8. 8. 8.\n",
      " 8. 8. 8. 8. 8. 8.]\n",
      "ones 2,3 :  [[5. 5. 5.]\n",
      " [5. 5. 5.]]\n",
      "ones 5,9 :  [[3. 3. 3. 3. 3. 3. 3. 3. 3.]\n",
      " [3. 3. 3. 3. 3. 3. 3. 3. 3.]\n",
      " [3. 3. 3. 3. 3. 3. 3. 3. 3.]\n",
      " [3. 3. 3. 3. 3. 3. 3. 3. 3.]\n",
      " [3. 3. 3. 3. 3. 3. 3. 3. 3.]]\n"
     ]
    }
   ],
   "source": [
    "print(\"zeros : \",np.zeros((2,3)))\n",
    "\n",
    "print(\"ones : \",np.ones(30)+7)\n",
    "\n",
    "#print(np.full((2, 3), 5))\n",
    "print(\"ones 2,3 : \",np.ones((2,3))*5)\n",
    "print(\"ones 5,9 : \",np.ones((5,9))+2)"
   ]
  },
  {
   "cell_type": "markdown",
   "id": "27b74ffc-8f8d-4098-8bea-07adf3f1ed9f",
   "metadata": {},
   "source": [
    "random"
   ]
  },
  {
   "cell_type": "code",
   "execution_count": 11,
   "id": "ed9146ee-7880-4572-84d1-ec2c8a6aa06a",
   "metadata": {},
   "outputs": [
    {
     "data": {
      "text/plain": [
       "array([[0.52556107, 0.47139391, 0.73208622],\n",
       "       [0.17266586, 0.0017106 , 0.73696207]])"
      ]
     },
     "execution_count": 11,
     "metadata": {},
     "output_type": "execute_result"
    }
   ],
   "source": [
    "np.random.random((2,3))"
   ]
  },
  {
   "cell_type": "code",
   "execution_count": 12,
   "id": "03d0f3d4-e548-4848-9ba2-f16609428404",
   "metadata": {},
   "outputs": [
    {
     "data": {
      "text/plain": [
       "array([4.08423583, 8.1307033 ])"
      ]
     },
     "execution_count": 12,
     "metadata": {},
     "output_type": "execute_result"
    }
   ],
   "source": [
    "np.random.normal((5,8))"
   ]
  },
  {
   "cell_type": "code",
   "execution_count": 65,
   "id": "a7e698ee-b21c-4a3c-9c59-36598e8f06ae",
   "metadata": {},
   "outputs": [
    {
     "data": {
      "text/plain": [
       "array([[0, 5, 8, 9, 1],\n",
       "       [0, 7, 6, 3, 9],\n",
       "       [1, 2, 9, 7, 9],\n",
       "       [5, 6, 2, 4, 1],\n",
       "       [7, 5, 6, 2, 2]])"
      ]
     },
     "execution_count": 65,
     "metadata": {},
     "output_type": "execute_result"
    }
   ],
   "source": [
    "#Array Generation of random integers within a specified range\n",
    "np.random.randint(0, 10, size = (5,5))"
   ]
  },
  {
   "cell_type": "code",
   "execution_count": 63,
   "id": "2fe092d3-4593-4456-8a68-d76304b25aee",
   "metadata": {
    "tags": []
   },
   "outputs": [
    {
     "data": {
      "text/plain": [
       "array([[ 0.32057635,  0.26348444],\n",
       "       [-3.96157579,  1.36127988]])"
      ]
     },
     "execution_count": 63,
     "metadata": {},
     "output_type": "execute_result"
    }
   ],
   "source": [
    "np.random.normal(loc=1.0, scale=2.0, size=(2,2))"
   ]
  },
  {
   "cell_type": "code",
   "execution_count": null,
   "id": "e71b062d-a6de-4122-a08a-c82f0f7d4cb7",
   "metadata": {},
   "outputs": [],
   "source": [
    "#np.savetxt(\"asave.txt\",A)\n",
    "#save values to given file .. if file not present it create the file\n",
    "\n",
    "#b = np.loadtxt(\"asave.txt\")\n",
    "#read value from the given file.. if file not present it gives an error"
   ]
  },
  {
   "cell_type": "code",
   "execution_count": 14,
   "id": "93438198-4e2a-45c7-90af-b4e12efd7622",
   "metadata": {},
   "outputs": [
    {
     "name": "stdout",
     "output_type": "stream",
     "text": [
      "[9. 5. 5.]\n"
     ]
    }
   ],
   "source": [
    "distance=[45,50,35]\n",
    "speed=[5,10,7]\n",
    "\n",
    "distance=np.array(distance)\n",
    "speed=np.array(speed)\n",
    "time=distance/speed\n",
    "print (time)"
   ]
  },
  {
   "cell_type": "markdown",
   "id": "7508113a-6b8b-483e-bd9b-bf4d2df827b6",
   "metadata": {},
   "source": [
    "Broadcasting"
   ]
  },
  {
   "cell_type": "code",
   "execution_count": 21,
   "id": "7f447493-7d69-448f-b232-5c52789364f5",
   "metadata": {},
   "outputs": [
    {
     "name": "stdout",
     "output_type": "stream",
     "text": [
      "Array a :  [[1 2 3]\n",
      " [4 5 6]]\n",
      "Type of a :  <class 'numpy.ndarray'>\n",
      "Multiply whole array with value :  [[ 5 10 15]\n",
      " [20 25 30]]\n",
      "Divide wgole array with same value :  [[0.2 0.4 0.6]\n",
      " [0.8 1.  1.2]]\n"
     ]
    }
   ],
   "source": [
    "print(\"Array a : \",a)\n",
    "print(\"Type of a : \",type(a))\n",
    "print(\"Multiply whole array with value : \",a*5)\n",
    "print(\"Divide wgole array with same value : \",a/5)"
   ]
  },
  {
   "cell_type": "code",
   "execution_count": 33,
   "id": "30accbc5-5db4-42f5-976a-32e70a8d86eb",
   "metadata": {},
   "outputs": [
    {
     "name": "stdout",
     "output_type": "stream",
     "text": [
      "(24,)\n"
     ]
    }
   ],
   "source": [
    "a=np.arange(24)\n",
    "print(a.shape)"
   ]
  },
  {
   "cell_type": "markdown",
   "id": "273f1f25-1425-44a7-8c1a-d183f6b1a8b9",
   "metadata": {},
   "source": [
    "LineSpace()"
   ]
  },
  {
   "cell_type": "code",
   "execution_count": 31,
   "id": "b34ab1ad-31f5-4add-a827-9d793580a002",
   "metadata": {},
   "outputs": [
    {
     "name": "stdout",
     "output_type": "stream",
     "text": [
      "[ 1.  2.  3.  4.  5.  6.  7.  8.  9. 10.]\n"
     ]
    }
   ],
   "source": [
    "array2=np.linspace(1,10,10)\n",
    "print(array2)"
   ]
  },
  {
   "cell_type": "code",
   "execution_count": 34,
   "id": "dc38fa1a-6b2a-416f-87b5-199573271599",
   "metadata": {},
   "outputs": [
    {
     "name": "stdout",
     "output_type": "stream",
     "text": [
      "[[[ 0  1]\n",
      "  [ 2  3]\n",
      "  [ 4  5]]\n",
      "\n",
      " [[ 6  7]\n",
      "  [ 8  9]\n",
      "  [10 11]]\n",
      "\n",
      " [[12 13]\n",
      "  [14 15]\n",
      "  [16 17]]\n",
      "\n",
      " [[18 19]\n",
      "  [20 21]\n",
      "  [22 23]]]\n"
     ]
    }
   ],
   "source": [
    "b=a.reshape(4,3,2)\n",
    "print(b)"
   ]
  },
  {
   "cell_type": "markdown",
   "id": "129f3891-5147-4f47-a19c-3d361effaafd",
   "metadata": {},
   "source": [
    "Slice"
   ]
  },
  {
   "cell_type": "code",
   "execution_count": 47,
   "id": "edb0ba68-0443-48bf-8dab-802ab32ef4c8",
   "metadata": {},
   "outputs": [
    {
     "name": "stdout",
     "output_type": "stream",
     "text": [
      "[ 0  1  2  3  4  5  6  7  8  9 10 11 12 13 14 15 16 17 18 19]\n",
      "a[3:] :  [ 3  4  5  6  7  8  9 10 11 12 13 14 15 16 17 18 19]\n",
      "a[:3] :  [0 1 2]\n",
      "a[3:7] :  [3 4 5 6]\n",
      "a[3::2] :  [ 3  5  7  9 11 13 15 17 19]\n"
     ]
    }
   ],
   "source": [
    "a=np.arange(20)\n",
    "print(a)\n",
    "\n",
    "print(\"a[3:] : \",a[3:])\n",
    "\n",
    "print(\"a[:3] : \",a[:3])\n",
    "\n",
    "print(\"a[3:7] : \",a[3:7])\n",
    "\n",
    "print(\"a[3::2] : \",a[3::2])"
   ]
  },
  {
   "cell_type": "markdown",
   "id": "c10a413b-6c8a-4469-8a85-df5a6f691d6f",
   "metadata": {},
   "source": [
    "Vstack and Hstack"
   ]
  },
  {
   "cell_type": "markdown",
   "id": "b4fa3515-462f-43cd-a311-dbcf5f4ca106",
   "metadata": {},
   "source": [
    "a1 = np.array([[1,2],\n",
    "               [3,4],\n",
    "               [5,6]])\n",
    "\n",
    "a2 = np.array([[7,8],\n",
    "               [9,10],\n",
    "               [10,11]])\n",
    "\n",
    "print(\"VSTACK : \",np.vstack((a1, a2)))\n",
    "print(\"HSTACK : \",np.hstack((a1,a2)))"
   ]
  },
  {
   "cell_type": "code",
   "execution_count": 55,
   "id": "396dcedd-766c-46cc-8b99-999bed9c3ff4",
   "metadata": {},
   "outputs": [
    {
     "name": "stdout",
     "output_type": "stream",
     "text": [
      "Firs row :  [[1 2 7 8]]\n",
      "First Column :  [1 3 5]\n"
     ]
    }
   ],
   "source": [
    "print(\"Firs row : \",o[0:1])\n",
    "print(\"First Column : \",o[0:,-4])"
   ]
  },
  {
   "cell_type": "markdown",
   "id": "4cd0a75a-a3f4-4e09-a382-a59d49808811",
   "metadata": {},
   "source": [
    "Array Datatype conversion"
   ]
  },
  {
   "cell_type": "code",
   "execution_count": 57,
   "id": "22aaf9ef-5bb3-4137-bd1d-25081f8368de",
   "metadata": {},
   "outputs": [
    {
     "name": "stdout",
     "output_type": "stream",
     "text": [
      "Type of A :  [[2 3 1]\n",
      " [4 2 1]]\n"
     ]
    }
   ],
   "source": [
    "a = np.array([[2.5, 3.8, 1.5],\n",
    "              [4.7, 2.9, 1.56]])\n",
    "\n",
    "print(\"Type of A : \",a.astype('int'))"
   ]
  },
  {
   "cell_type": "markdown",
   "id": "af7a97dc-9992-42cd-97be-c6678da9a53b",
   "metadata": {},
   "source": [
    "Boolean Array from Binary Array"
   ]
  },
  {
   "cell_type": "code",
   "execution_count": 58,
   "id": "05c3a6f9-2396-4ce6-9651-40b23b1801aa",
   "metadata": {},
   "outputs": [
    {
     "name": "stdout",
     "output_type": "stream",
     "text": [
      "Boolean array :  [[ True False False]\n",
      " [ True  True  True]\n",
      " [False False False]]\n"
     ]
    }
   ],
   "source": [
    "a = np.array([[1, 0, 0],\n",
    "              [1, 1, 1],\n",
    "              [0, 0, 0]])\n",
    "\n",
    "print(\"Boolean array : \",a.astype('bool'))"
   ]
  },
  {
   "cell_type": "markdown",
   "id": "0d8f19a4-963e-429a-9086-76203f9a8ec8",
   "metadata": {},
   "source": [
    "Getting the positions where elements of 2 arrays match"
   ]
  },
  {
   "cell_type": "code",
   "execution_count": 59,
   "id": "eae911d9-e78b-4023-8af4-46dfd8f85690",
   "metadata": {},
   "outputs": [
    {
     "name": "stdout",
     "output_type": "stream",
     "text": [
      "(array([0, 3, 4]),)\n"
     ]
    }
   ],
   "source": [
    "a = np.array([1,2,3,4,5])\n",
    "\n",
    "b = np.array([1,3,2,4,5])\n",
    "\n",
    "print(np.where(a == b))"
   ]
  },
  {
   "cell_type": "markdown",
   "id": "70eaaef3-2b8b-4aa5-b8d2-be3bec1d0122",
   "metadata": {},
   "source": [
    "Array Generation by repeatition of a small array across each dimension"
   ]
  },
  {
   "cell_type": "code",
   "execution_count": 69,
   "id": "239e5f1f-ecfd-49b6-9657-041c223b01c9",
   "metadata": {},
   "outputs": [
    {
     "name": "stdout",
     "output_type": "stream",
     "text": [
      "[[1 2 3 1 2 3 1 2 3 1 2 3 1 2 3 1 2 3 1 2 3 1 2 3 1 2 3 1 2 3]\n",
      " [4 5 6 4 5 6 4 5 6 4 5 6 4 5 6 4 5 6 4 5 6 4 5 6 4 5 6 4 5 6]]\n"
     ]
    }
   ],
   "source": [
    "a = np.array([[1,2,3],\n",
    "              [4,5,6]])\n",
    "\n",
    "print(np.tile(a, 10))"
   ]
  },
  {
   "cell_type": "markdown",
   "id": "582ff4ca-99a1-435b-9206-e2210a076bb9",
   "metadata": {},
   "source": [
    "Matrix Multiplication"
   ]
  },
  {
   "cell_type": "code",
   "execution_count": 67,
   "id": "eab0d424-379e-4e92-9e3d-9c01da182cc9",
   "metadata": {},
   "outputs": [
    {
     "name": "stdout",
     "output_type": "stream",
     "text": [
      "a*b :  [[ 36  42  48]\n",
      " [ 81  96 111]\n",
      " [126 150 174]]\n"
     ]
    }
   ],
   "source": [
    "a = np.array([[1,2,3],\n",
    "              [4,5,6],\n",
    "              [7,8,9]])\n",
    "\n",
    "b = np.array([[2,3,4],\n",
    "              [5,6,7],\n",
    "              [8,9,10]])\n",
    "\n",
    "print(\"a*b : \",np.matmul(a, b))"
   ]
  },
  {
   "cell_type": "markdown",
   "id": "701057f6-5a86-4b66-b985-64afa1cd0bd9",
   "metadata": {},
   "source": [
    "Matirx Transpose"
   ]
  },
  {
   "cell_type": "code",
   "execution_count": 68,
   "id": "9815c8a4-c51e-44c7-abbe-7e4a9ec2c962",
   "metadata": {},
   "outputs": [
    {
     "name": "stdout",
     "output_type": "stream",
     "text": [
      "Transpose of a is :  [[1 4 7]\n",
      " [2 5 8]\n",
      " [3 6 9]]\n"
     ]
    }
   ],
   "source": [
    "print(\"Transpose of a is : \",a.T)"
   ]
  },
  {
   "cell_type": "markdown",
   "id": "69d0738c-ed7e-4613-be01-4bbf0d06010c",
   "metadata": {},
   "source": [
    "Sine and Cosine"
   ]
  },
  {
   "cell_type": "code",
   "execution_count": 72,
   "id": "b3738a4d-116d-4703-83e3-a79f6ff55264",
   "metadata": {},
   "outputs": [
    {
     "name": "stdout",
     "output_type": "stream",
     "text": [
      "Sine of the given array of angles =  [ 0.00159265  0.99999968 -0.0031853 ]\n",
      "Cosine of the given array of angles =  [-9.99998732e-01  7.96326711e-04  9.99994927e-01]\n"
     ]
    }
   ],
   "source": [
    "angles = np.array([3.14, 3.14/2, 6.28])\n",
    "print('Sine of the given array of angles = ',np.sin(angles))\n",
    "print('Cosine of the given array of angles = ',np.cos(angles))"
   ]
  },
  {
   "cell_type": "code",
   "execution_count": null,
   "id": "c5903b9d-e819-4030-9002-f56d4bcdcf28",
   "metadata": {},
   "outputs": [],
   "source": []
  }
 ],
 "metadata": {
  "kernelspec": {
   "display_name": "Python 3",
   "language": "python",
   "name": "python3"
  },
  "language_info": {
   "codemirror_mode": {
    "name": "ipython",
    "version": 3
   },
   "file_extension": ".py",
   "mimetype": "text/x-python",
   "name": "python",
   "nbconvert_exporter": "python",
   "pygments_lexer": "ipython3",
   "version": "3.7.8"
  }
 },
 "nbformat": 4,
 "nbformat_minor": 5
}
